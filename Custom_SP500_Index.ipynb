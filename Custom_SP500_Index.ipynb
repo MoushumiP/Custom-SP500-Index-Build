{
 "cells": [
  {
   "cell_type": "code",
   "execution_count": 18,
   "id": "2764d972",
   "metadata": {},
   "outputs": [],
   "source": [
    "import requests\n",
    "from bs4 import BeautifulSoup\n",
    "import pandas as pd\n",
    "import yfinance as yf\n",
    "import numpy as np\n",
    "import matplotlib.pyplot as plt"
   ]
  },
  {
   "cell_type": "code",
   "execution_count": 19,
   "id": "1494d9d2",
   "metadata": {},
   "outputs": [],
   "source": [
    "url = 'https://en.wikipedia.org/wiki/List_of_S%26P_500_companies'\n",
    "response = requests.get(url)\n",
    "soup = BeautifulSoup(response.content, 'html.parser')\n",
    "\n",
    "\n",
    "table = soup.find('table', {'id': 'constituents'})\n",
    "rows = table.find_all('tr')\n",
    "\n"
   ]
  },
  {
   "cell_type": "markdown",
   "id": "7324bc05",
   "metadata": {},
   "source": [
    "I delete 4 tickers to clean the constituent data"
   ]
  },
  {
   "cell_type": "code",
   "execution_count": 20,
   "id": "d2a2c8a5",
   "metadata": {},
   "outputs": [
    {
     "name": "stdout",
     "output_type": "stream",
     "text": [
      "[*********************100%%**********************]  499 of 499 completed\n",
      "[*********************100%%**********************]  384 of 384 completed\n"
     ]
    }
   ],
   "source": [
    "# Extract the data\n",
    "sp500_tickers = []\n",
    "sectors = []\n",
    "excluded_tickers = {'BF.B', 'SOLV', 'GEV', 'BRK.B'}\n",
    "for row in rows[1:]:\n",
    "    cols = row.find_all('td')\n",
    "    ticker = cols[0].text.strip()\n",
    "    sector = cols[3].text.strip()\n",
    "    if ticker not in excluded_tickers:\n",
    "        sp500_tickers.append(ticker)\n",
    "        sectors.append(sector)\n",
    "\n",
    "\n",
    "sp500_df = pd.DataFrame({'Ticker': sp500_tickers, 'Sector': sectors})\n",
    "\n",
    "\n",
    "data = yf.download(sp500_tickers, start='2018-01-01', end='2023-12-31')['Adj Close']\n",
    "\n",
    "# Calculate the annual volatility \n",
    "daily_returns = data.pct_change().dropna()\n",
    "annual_volatility = daily_returns.std() * np.sqrt(252)\n",
    "\n",
    "# volatility\n",
    "sp500_df['Volatility'] = sp500_df['Ticker'].apply(lambda x: annual_volatility.get(x, np.nan))\n",
    "\n",
    "# Select the 5 least volatile stocks from each sector\n",
    "least_volatile_stocks = sp500_df.groupby('Sector').apply(lambda x: x.nsmallest(5, 'Volatility')).reset_index(drop=True)\n",
    "\n",
    "# Fetch the historical data for the selected stocks\n",
    "selected_tickers = least_volatile_stocks['Ticker'].tolist()\n",
    "selected_data = yf.download(selected_tickers, start='2018-01-01', end='2023-12-31')['Adj Close']\n",
    "\n",
    "# Calculate daily returns\n",
    "selected_daily_returns = selected_data.pct_change().dropna()\n",
    "\n",
    "# Calculate mean returns and covariance matrix\n",
    "mean_returns = selected_daily_returns.mean()\n",
    "cov_matrix = selected_daily_returns.cov()\n"
   ]
  },
  {
   "cell_type": "markdown",
   "id": "479c7249",
   "metadata": {},
   "source": [
    "Building the index and calculating performance"
   ]
  },
  {
   "cell_type": "code",
   "execution_count": 21,
   "id": "6cc2a029",
   "metadata": {},
   "outputs": [
    {
     "name": "stdout",
     "output_type": "stream",
     "text": [
      "Custom Index Performance:\n",
      "Return: 0.55\n",
      "Volatility: 0.14\n",
      "Sharpe Ratio: 3.83\n"
     ]
    }
   ],
   "source": [
    "# Equal weighting for simplicity\n",
    "num_stocks = len(selected_tickers)\n",
    "weights = np.array([1.0 / num_stocks] * num_stocks)\n",
    "\n",
    "# Portfolio performance\n",
    "portfolio_return = np.dot(weights, mean_returns) * 252\n",
    "portfolio_volatility = np.sqrt(np.dot(weights.T, np.dot(cov_matrix, weights))) * np.sqrt(252)\n",
    "portfolio_sharpe_ratio = (portfolio_return - 0.01) / portfolio_volatility\n",
    "\n",
    "print(f'Custom Index Performance:\\nReturn: {portfolio_return:.2f}\\nVolatility: {portfolio_volatility:.2f}\\nSharpe Ratio: {portfolio_sharpe_ratio:.2f}')\n"
   ]
  },
  {
   "cell_type": "markdown",
   "id": "f3a3d0fe",
   "metadata": {},
   "source": [
    "Comparing with SP500 performance"
   ]
  },
  {
   "cell_type": "code",
   "execution_count": 22,
   "id": "96333513",
   "metadata": {},
   "outputs": [
    {
     "name": "stdout",
     "output_type": "stream",
     "text": [
      "[*********************100%%**********************]  1 of 1 completed\n",
      "S&P 500 Performance:\n",
      "Return: 0.12\n",
      "Volatility: 0.21\n",
      "Sharpe Ratio: 0.52\n"
     ]
    }
   ],
   "source": [
    "# Fetch the S&P 500 index data\n",
    "sp500_index = yf.download('^GSPC', start='2018-01-01', end='2023-12-31')['Adj Close']\n",
    "\n",
    "# Calculate S&P 500 performance metrics\n",
    "sp500_daily_returns = sp500_index.pct_change().dropna()\n",
    "sp500_annual_return = sp500_daily_returns.mean() * 252\n",
    "sp500_volatility = sp500_daily_returns.std() * np.sqrt(252)\n",
    "sp500_sharpe_ratio = (sp500_annual_return - 0.01) / sp500_volatility\n",
    "\n",
    "print(f'S&P 500 Performance:\\nReturn: {sp500_annual_return:.2f}\\nVolatility: {sp500_volatility:.2f}\\nSharpe Ratio: {sp500_sharpe_ratio:.2f}')\n",
    "\n",
    "\n"
   ]
  },
  {
   "cell_type": "markdown",
   "id": "3271dee3",
   "metadata": {},
   "source": [
    "The following graph allows us to visualise the superior performance of the custom SP500 index"
   ]
  },
  {
   "cell_type": "code",
   "execution_count": 23,
   "id": "4ec706e3",
   "metadata": {},
   "outputs": [
    {
     "data": {
      "image/png": "[encoded data removed]",
      "text/plain": [
       "<Figure size 640x480 with 1 Axes>"
      ]
     },
     "metadata": {},
     "output_type": "display_data"
    }
   ],
   "source": [
    "# Plot comparison\n",
    "labels = ['Custom Index', 'S&P 500']\n",
    "returns = [portfolio_return, sp500_annual_return]\n",
    "volatilities = [portfolio_volatility, sp500_volatility]\n",
    "sharpe_ratios = [portfolio_sharpe_ratio, sp500_sharpe_ratio]\n",
    "\n",
    "x = np.arange(len(labels))  \n",
    "width = 0.25  \n",
    "\n",
    "fig, ax = plt.subplots()\n",
    "rects1 = ax.bar(x - width, returns, width, label='Return')\n",
    "rects2 = ax.bar(x, volatilities, width, label='Volatility')\n",
    "rects3 = ax.bar(x + width, sharpe_ratios, width, label='Sharpe Ratio')\n",
    "\n",
    "\n",
    "ax.set_xlabel('Metric')\n",
    "ax.set_title('Performance Comparison (2018-2023)')\n",
    "ax.set_xticks(x)\n",
    "ax.set_xticklabels(labels)\n",
    "ax.legend()\n",
    "\n",
    "\n",
    "def autolabel(rects):\n",
    "    for rect in rects:\n",
    "        height = rect.get_height()\n",
    "        ax.annotate(f'{height:.2f}',\n",
    "                    xy=(rect.get_x() + rect.get_width() / 2, height),\n",
    "                    xytext=(0, 3),  \n",
    "                    textcoords=\"offset points\",\n",
    "                    ha='center', va='bottom')\n",
    "\n",
    "autolabel(rects1)\n",
    "autolabel(rects2)\n",
    "autolabel(rects3)\n",
    "\n",
    "fig.tight_layout()\n",
    "\n",
    "plt.show()"
   ]
  }
 ],
 "metadata": {
  "kernelspec": {
   "display_name": "Python 3 (ipykernel)",
   "language": "python",
   "name": "python3"
  },
  "language_info": {
   "codemirror_mode": {
    "name": "ipython",
    "version": 3
   },
   "file_extension": ".py",
   "mimetype": "text/x-python",
   "name": "python",
   "nbconvert_exporter": "python",
   "pygments_lexer": "ipython3",
   "version": "3.11.4"
  }
 },
 "nbformat": 4,
 "nbformat_minor": 5
}
